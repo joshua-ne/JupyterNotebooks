{
 "cells": [
  {
   "cell_type": "code",
   "execution_count": 1,
   "metadata": {},
   "outputs": [],
   "source": [
    "// Iterale<T> interface 属于 java.lang, T 代表 iterator 返回的 element 的类型\n",
    "// Collections<E> interface implements Iterable<T>; 属于 java.util, E 代表element的类型\n",
    "\n",
    "// Collections<E> interface 下面有 List<E>, Set<E>, Queue<E> 三个interfaces，其中 Queue<E> 下面还有 Deque<E>\n",
    "\n",
    "// List<E> 具体的implemention 有 ArrayList<E> 和 LinkedList<E>;\n",
    "// Queue<E> 下面有 PriorityQueue<E>; 而 Deque<E> 的 implemention 有 ArrayDeque<E> 和 LinkedList<E>;\n",
    "// Set<E> 下面有 HashSet<E>, TreeSet<E>, LinkedHashSet<E>\n",
    "\n",
    "// Map<K,V> 也是 java.util 里的一个interface, 它的implementation有HashMap, LinkedHashMap, TreeMap"
   ]
  },
  {
   "cell_type": "code",
   "execution_count": 2,
   "metadata": {},
   "outputs": [],
   "source": [
    "//先总结下各个interface的methods："
   ]
  },
  {
   "cell_type": "code",
   "execution_count": 3,
   "metadata": {},
   "outputs": [],
   "source": [
    "/*\n",
    "Collection<E>: public interface Collection<E> extends Iterable<E>\n",
    "\n",
    "size()\n",
    "add(E e)\n",
    "remove(Object o)\n",
    "addAll(Collection<? extends E> c)\n",
    "removeAll(Collection<?> c)\n",
    "contains(Object o)\n",
    "containsAll(Collection<?> c)\n",
    "isEmpty()\n",
    "toArray()：Returns an array containing all of the elements in this collection. 返回：Object[]\n",
    "toArray(T[] a): Returns an array containing all of the elements in this collection; the runtime type of the returned array is that of the specified array. 返回：<T> T[]\n",
    "iterator(): Returns an iterator over the elements in this collection. 返回：Iterator<E>\n",
    "\n",
    "forEach (inherited from Interable<T>)\n",
    "for (T t : this)\n",
    "    action.accept(t);\n",
    "\n",
    "removeIf(Predicate<? super E> filter)\n",
    "retainAll(Collection<?> c)\n",
    "clear()\n",
    "equals(Object o)\n",
    "\n",
    "*/"
   ]
  },
  {
   "cell_type": "code",
   "execution_count": 4,
   "metadata": {},
   "outputs": [],
   "source": [
    "/*\n",
    "Map<K,V>: \n",
    "get(Object key)\n",
    "put(K key, V value)\n",
    "putAll(Map<? extends K,? extends V> m)\n",
    "containsKey(Object key)\n",
    "isEmpty()\n",
    "keySet(): 返回：Set<K>\n",
    "remove(Object key)\n",
    "size()\n",
    "values(): Returns a Collection view of the values contained in this map. 返回：Collection<V>\n",
    "\n",
    "clear()\n",
    "containsValue(Object value)\n",
    "putIfAbsent(K key, V value): If the specified key is not already associated with a value (or is mapped to null) associates it with the given value and returns null, else returns the current value.\n",
    "remove(Object key, Object value): Removes the entry for the specified key only if it is currently mapped to the specified value.\n",
    "\n",
    "*/"
   ]
  },
  {
   "cell_type": "code",
   "execution_count": 5,
   "metadata": {},
   "outputs": [],
   "source": [
    "/*\n",
    "List<E> \n",
    "add(E e)\n",
    "add(int index, E element)\n",
    "get(int index)\n",
    "indexOf(Object o)\n",
    "lastIndexOf(Object o)\n",
    "remove(int index): 返回 E\n",
    "\n",
    "sort(Comparator<? super E> c)\n",
    "Sorts this list according to the order induced by the specified Comparator.\n",
    "\n",
    "subList(int fromIndex, int toIndex)\n",
    "Returns a view of the portion of this list between the specified fromIndex, inclusive, and toIndex, exclusive.\n",
    "返回List<E>\n",
    "\n",
    "toArray()\n",
    "Returns an array containing all of the elements in this list in proper sequence (from first to last element).\n",
    "返回 Object[]\n",
    "\n",
    "set(int index, E element): Replaces the element at the specified position in this list with the specified element (optional operation).返回 E\n",
    "remove(Object o)： 返回boolean, Removes the first occurrence of the specified element from this list, if it is present (optional operation).\n",
    "listIterator(): Returns a list iterator over the elements in this list (in proper sequence). 返回：ListIterator<E>\n",
    "listIterator(int index)： ... starting at the specified position in the list.\n",
    "addAll(Collection<? extends E> c)\n",
    "addAll(int index, Collection<? extends E> c)\n",
    "\n",
    "*/\n"
   ]
  },
  {
   "cell_type": "code",
   "execution_count": 6,
   "metadata": {},
   "outputs": [],
   "source": [
    "/*\n",
    "Set<E>\n",
    "sets contain no pair of elements e1 and e2 such that e1.equals(e2), and at most one null element\n",
    "\n",
    "Mothods 基本与 Collection 完全相同\n",
    "\n",
    "*/"
   ]
  },
  {
   "cell_type": "code",
   "execution_count": 7,
   "metadata": {},
   "outputs": [],
   "source": [
    "/*\n",
    "Queue<E>\n",
    "设计的目的是：holding elements prior to processing\n",
    "除了基本的Collection的操作，Queue提供了额外的insertion, extraction, and inspection操作；每个这类操作都有两个版本：如果操作失败，其中一个会throw an exception;另一个返回特殊值（null或false)\n",
    "\n",
    "Insert\tadd(e)\toffer(e) 如果不成功返回false\n",
    "Remove\tremove()\tpoll() 如果不成功，返回null\n",
    "Examine\telement()\tpeek() 如果不成功，返回null\n",
    "\n",
    "Queue 一般作为FIFO结构 （但也不一定）；无论使用何种order，remove()/poll()都是返回头部element，在FIFO Queue中，insert操作是加在尾部\n",
    "其它结构的队列的insert加入的位置可能不一样，Every Queue implementation must specify its ordering properties.\n",
    "一般不允许null，但有些implementation不禁止，但不应该insert null，因为null是poll的返回值，来作为判断Queue是否为空的标准\n",
    "\n",
    "\n",
    "*/"
   ]
  },
  {
   "cell_type": "code",
   "execution_count": 8,
   "metadata": {},
   "outputs": [],
   "source": [
    "/*\n",
    "Deque<E>\n",
    "A linear collection that supports element insertion and removal at both ends. 发音为（deck）\n",
    "一般情况下insert操作不会不成功\n",
    "\n",
    "Summary of Deque methods：\n",
    "            \t\tFirst Element (Head)\t\t\t\t\tLast Element (Tail)\n",
    "\t\t\tThrows exception\tSpecial value\t\tThrows exception\tSpecial value\n",
    "Insert\t\taddFirst(e)\t\t\tofferFirst(e)\t\taddLast(e)\t\t\tofferLast(e)\n",
    "Remove\t\tremoveFirst()\t\tpollFirst()\t\t\tremoveLast()\t\tpollLast()\n",
    "Examine\t\tgetFirst()\t\t\tpeekFirst()\t\t\tgetLast()\t\t\tpeekLast()\n",
    "\n",
    "这个interface implement了 Queue interface，当Deque作为Queue使用时，即为FIFO：\n",
    "Comparison of Queue and Deque methods： \n",
    "Queue Method\tEquivalent Deque Method\n",
    "add(e)\t\t\taddLast(e)\n",
    "offer(e)\t\tofferLast(e)\n",
    "remove()\t\tremoveFirst()\n",
    "poll()\t\t\tpollFirst()\n",
    "element()\t\tgetFirst()\n",
    "peek()\t\t\tpeekFirst()\n",
    "\n",
    "Deque也可以作为LIFO使用（stack）; This interface should be used in preference to the legacy Stack class\n",
    "Comparison of Stack and Deque methods:\n",
    "Stack Method\tEquivalent Deque Method\n",
    "push(e)\t\t\taddFirst(e)\n",
    "pop()\t\t\tremoveFirst()\n",
    "peek()\t\t\tpeekFirst()\n",
    "\n",
    "peek() 在使用时，作为Queue和Stack是相同的，都是返回head element；\n",
    "Queue和Stack在这里的不同之处只在于添加的时候是加在head还是tail；\n",
    "Deque 中也可以用pop() 和 push()!\n",
    "\n",
    "强烈建议不要加null进去！原因同上\n",
    "\n",
    "iterator()：Returns an iterator over the elements in this deque in proper sequence.返回：Iterator<E>\n",
    "descendingIterator()： Returns an iterator over the elements in this deque in reverse sequential order. 返回：Iterator<E>\n",
    "\n",
    "*/"
   ]
  },
  {
   "cell_type": "code",
   "execution_count": 9,
   "metadata": {},
   "outputs": [],
   "source": [
    "//总结各个implementation的构建（constructor），初始化（Initialization）和 methods："
   ]
  },
  {
   "cell_type": "code",
   "execution_count": 2,
   "metadata": {},
   "outputs": [],
   "source": [
    "/*\n",
    "ArrayList<E> extends AbstractList<E>\n",
    "Resizable-array implementation of the List interface.允许null;对于其linear time的操作而言,constant factor比linkedlist小; 在加入大量element之前,手动增加ArrayList的capacity可以提高性能\n",
    "\n",
    "构建(constructor):\n",
    "ArrayList(): Constructs an empty list with an initial capacity of ten.\n",
    "ArrayList(Collection<? extends E> c): Constructs a list containing the elements of the specified collection, in the order they are returned by the collection's iterator.\n",
    "ArrayList(int initialCapacity): Constructs an empty list with the specified initial capacity.\n",
    "\n",
    "\n",
    "方法(methods):\n",
    "其它基本与List相同\n",
    "ensureCapacity(int minCapacity): Increases the capacity of this ArrayList instance, if necessary, \n",
    "                                 to ensure that it can hold at least the number of elements specified by the minimum capacity argument.\n",
    "clone(): Returns a shallow copy of this ArrayList instance. 返回:Object\n",
    "\n",
    "*/"
   ]
  },
  {
   "cell_type": "code",
   "execution_count": 10,
   "metadata": {},
   "outputs": [],
   "source": [
    "//ArrayList 初始化方法1:\n",
    "List<Integer> list1 = new ArrayList<>();\n",
    "list1.add(0);\n",
    "list1.add(1);"
   ]
  },
  {
   "cell_type": "code",
   "execution_count": 9,
   "metadata": {},
   "outputs": [],
   "source": [
    "//ArrayList 初始化方法2:\n",
    "List<Integer> list2 = new ArrayList<>(list1);"
   ]
  },
  {
   "cell_type": "code",
   "execution_count": 9,
   "metadata": {},
   "outputs": [],
   "source": [
    "//ArrayList 初始化方法3:\n",
    "List<Integer> list3 = new ArrayList<>(){{\n",
    "    add(1);\n",
    "    add(2);\n",
    "}};"
   ]
  },
  {
   "cell_type": "code",
   "execution_count": 12,
   "metadata": {},
   "outputs": [],
   "source": [
    "//ArrayList 初始化方法4:\n",
    "List<Integer> list4 = new ArrayList<>(Arrays.asList(2, 3, 4));"
   ]
  },
  {
   "cell_type": "code",
   "execution_count": 17,
   "metadata": {},
   "outputs": [],
   "source": [
    "//ArrayList 初始化方法5:\n",
    "int count = 10; int element = 0;\n",
    "List<Integer> list5 = new ArrayList<>(Collections.nCopies(count,element));//把element复制count次填入ArrayList中"
   ]
  },
  {
   "cell_type": "code",
   "execution_count": 11,
   "metadata": {},
   "outputs": [],
   "source": [
    "/*\n",
    "LinkedList<E>\n",
    "是 List and Deque interfaces 的一个实现。 实现了List的所有操作，允许null. \n",
    "带index的操作会从head或者tail来遍历linkedlist（取决于index离哪边更近）\n",
    "\n",
    "构建(constructor):\n",
    "LinkedList()：Constructs an empty list.\n",
    "LinkedList(Collection<? extends E> c)：Constructs a list containing the elements of the specified collection, in the order they are returned by the collection's iterator.\n",
    "\n",
    "方法(methods):\n",
    "addFirst(E e)\n",
    "addLast(E e)\n",
    "... (有Deque和List的所有Methods，因为LinkedList可以实现Deque和List)\n",
    "\n",
    "初始化方法应该与ArrayList相同\n",
    "\n",
    "*/"
   ]
  },
  {
   "cell_type": "code",
   "execution_count": 12,
   "metadata": {},
   "outputs": [],
   "source": [
    "/*\n",
    "ArrayDeque<E>\n",
    "\n",
    "\n",
    "构建(constructor):\n",
    "\n",
    "方法(methods):\n",
    "*/"
   ]
  },
  {
   "cell_type": "code",
   "execution_count": 13,
   "metadata": {},
   "outputs": [],
   "source": [
    "/*\n",
    "PriorityQueue<E>\n",
    "An unbounded priority queue based on a priority heap.PriorityQueue中的元素按自然oder排列，或由在创建时给定的Comparator决定；不允许null元素\n",
    "PQ的head是按order下的最小的元素；如果有多个相等的最小值，随机返回一个；取回操作：poll, remove, peek, element 都是返回head element\n",
    "无边界，但内部有capacity来控制arary的length；它的Iterator并不保证输出的顺序，如果需要按顺序遍历，建议使用Arrays.sort(pq.toArray()).\n",
    "注意: 这个实现的\n",
    "enqueuing and dequeuing(offer, poll, remove() and add)方法的时间复杂度为 O(log(n)) \n",
    "remove(Object) and contains(Object) 操作是O(n)\n",
    "取回操作(peek, element, and size)的时间复杂度为O(1)\n",
    "\n",
    "\n",
    "构建(constructor):\n",
    "PriorityQueue()：默认起始capacity为11；默认顺序为自然升序（minHeap，head上是最小值）\n",
    "PriorityQueue(Collection<? extends E> c)\n",
    "PriorityQueue(Comparator<? super E> comparator)：特例 Collections.reverseOrder() 返回一个自然降序的comparator，实现一个maxHeap，head上是最大值\n",
    "PriorityQueue(int initialCapacity)\n",
    "PriorityQueue(int initialCapacity, Comparator<? super E> comparator)\n",
    "PriorityQueue(PriorityQueue<? extends E> c)\n",
    "PriorityQueue(SortedSet<? extends E> c)\n",
    "\n",
    "方法(methods):\n",
    "\n",
    "\n",
    "comparator()：返回这个Queue使用的comparator，如果是自然顺序则返回null；返回：Comparator<? super E>\n",
    "*/"
   ]
  },
  {
   "cell_type": "code",
   "execution_count": 14,
   "metadata": {},
   "outputs": [],
   "source": [
    "/*\n",
    "HashSet<E>\n",
    "Set的一种实现，底层由HashMap instance实现；允许null；\n",
    "基本操作 (add, remove, contains and size)的时间复杂度为O(1)\n",
    "\n",
    "构建(constructor):\n",
    "HashSet(): 默认initial capacity = 16； load factor = 0.75\n",
    "HashSet(Collection<? extends E> c)\n",
    "HashSet(int initialCapacity)\n",
    "HashSet(int initialCapacity, float loadFactor)\n",
    "\n",
    "方法(methods):\n",
    "add(E e); contains(Object o); remove(Object o); size()\n",
    "*/"
   ]
  },
  {
   "cell_type": "code",
   "execution_count": 15,
   "metadata": {},
   "outputs": [],
   "source": [
    "/*\n",
    "TreeSet<E>\n",
    "A NavigableSet implementation based on a TreeMap. \n",
    "元素按自然顺序或特定的Comparator排序\n",
    "基本操作(add, remove and contains)的时间复杂度保证为O(lgn)\n",
    "equals() 与 compareTo() 的区别问题？\n",
    "\n",
    "构建(constructor):\n",
    "TreeSet()\n",
    "TreeSet(Collection<? extends E> c)\n",
    "TreeSet(Comparator<? super E> comparator)\n",
    "TreeSet(SortedSet<E> s)\n",
    "\n",
    "方法(methods):\n",
    "ceiling(E e)：返回set中大于等于e的最小的element；如果没有返回null；返回：E\n",
    "floor(E e)：返回set中小于等于e的最大的element；如果没有返回null；返回：E\n",
    "first()：Returns the first (lowest) element currently in this set. 返回：E\n",
    "last()\n",
    "headSet(E toElement)\n",
    "higher(E e)\n",
    "lower(E e)\n",
    "pollFirst()\n",
    "pollLast()\n",
    "subSet(E fromElement, E toElement)\n",
    "tailSet(E fromElement)\n",
    "descendingSet()：Returns a reverse order view of the elements contained in this set. 返回：NavigableSet<E>\n",
    "comparator()\n",
    "*/"
   ]
  },
  {
   "cell_type": "code",
   "execution_count": 16,
   "metadata": {},
   "outputs": [],
   "source": [
    "/*\n",
    "HashMap<K,V>\n",
    "\n",
    "\n",
    "构建(constructor):\n",
    "\n",
    "方法(methods):\n",
    "*/"
   ]
  },
  {
   "cell_type": "code",
   "execution_count": 22,
   "metadata": {},
   "outputs": [],
   "source": [
    "/*\n",
    "TreeMap<K,V>\n",
    "\n",
    "\n",
    "构建(constructor):\n",
    "\n",
    "方法(methods):\n",
    "*/"
   ]
  },
  {
   "cell_type": "code",
   "execution_count": 22,
   "metadata": {},
   "outputs": [],
   "source": [
    "/*\n",
    "\n",
    "String 的构建，初始化和方法\n",
    "\n",
    "\n",
    "*/"
   ]
  },
  {
   "cell_type": "code",
   "execution_count": 23,
   "metadata": {},
   "outputs": [],
   "source": [
    "//Iterable<E> 和 iterator 的构建和使用"
   ]
  },
  {
   "cell_type": "code",
   "execution_count": 23,
   "metadata": {},
   "outputs": [],
   "source": [
    "//Comparable 和 Comparator 的构建和使用"
   ]
  },
  {
   "cell_type": "code",
   "execution_count": 24,
   "metadata": {},
   "outputs": [],
   "source": [
    "/*\n",
    "java.lang.Object\n",
    "java.util.Collections\n",
    "\n",
    "Collections 作为一个class里有很多有用的静态methods：\n",
    "\n",
    "*/"
   ]
  },
  {
   "cell_type": "code",
   "execution_count": 24,
   "metadata": {},
   "outputs": [],
   "source": [
    "/*\n",
    "\n",
    "Class Arrays\n",
    "java.lang.Object\n",
    "java.util.Arrays\n",
    "\n",
    "Arrays 作为一个class里有很多有用的静态methods：\n",
    "\n",
    "*/"
   ]
  },
  {
   "cell_type": "code",
   "execution_count": 1,
   "metadata": {},
   "outputs": [],
   "source": [
    "/*\n",
    "算法：https://docs.oracle.com/javase/8/docs/technotes/guides/collections/reference.html\n",
    "\n",
    "Algorithms - The Collections class contains these useful static methods.\n",
    "sort(List) - Sorts a list using a merge sort algorithm, which provides average case performance comparable to a high quality quicksort, guaranteed O(n*log n) performance (unlike quicksort), and stability (unlike quicksort). A stable sort is one that does not reorder equal elements.\n",
    "binarySearch(List, Object) - Searches for an element in an ordered list using the binary search algorithm.\n",
    "reverse(List) - Reverses the order of the elements in a list.\n",
    "shuffle(List) - Randomly changes the order of the elements in a list.\n",
    "fill(List, Object) - Overwrites every element in a list with the specified value.\n",
    "copy(List dest, List src) - Copies the source list into the destination list.\n",
    "min(Collection) - Returns the minimum element in a collection.\n",
    "max(Collection) - Returns the maximum element in a collection.\n",
    "rotate(List list, int distance) - Rotates all of the elements in the list by the specified distance.\n",
    "replaceAll(List list, Object oldVal, Object newVal) - Replaces all occurrences of one specified value with another.\n",
    "indexOfSubList(List source, List target) - Returns the index of the first sublist of source that is equal to target.\n",
    "lastIndexOfSubList(List source, List target) - Returns the index of the last sublist of source that is equal to target.\n",
    "swap(List, int, int) - Swaps the elements at the specified positions in the specified list.\n",
    "frequency(Collection, Object) - Counts the number of times the specified element occurs in the specified collection.\n",
    "disjoint(Collection, Collection) - Determines whether two collections are disjoint, in other words, whether they contain no elements in common.\n",
    "addAll(Collection<? super T>, T...) - Adds all of the elements in the specified array to the specified collection.\n",
    "\n",
    "*/"
   ]
  },
  {
   "cell_type": "code",
   "execution_count": null,
   "metadata": {},
   "outputs": [],
   "source": [
    "/*\n",
    "各个结构的ThreadSafe与否模式\n",
    "\n",
    "*/"
   ]
  }
 ],
 "metadata": {
  "kernelspec": {
   "display_name": "Java",
   "language": "java",
   "name": "java"
  },
  "language_info": {
   "codemirror_mode": "java",
   "file_extension": ".java",
   "mimetype": "text/x-java-source",
   "name": "Java",
   "pygments_lexer": "java",
   "version": "10.0.1+10-Debian-4"
  }
 },
 "nbformat": 4,
 "nbformat_minor": 2
}
